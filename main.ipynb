{
 "cells": [
  {
   "cell_type": "code",
   "execution_count": 4,
   "metadata": {},
   "outputs": [],
   "source": [
    "import yfinance as yf\n",
    "import pandas as pd\n",
    "import numpy as np\n",
    "import matplotlib.pyplot as plt\n",
    "from datetime import datetime, timedelta\n",
    "import seaborn as sns\n",
    "from sklearn.preprocessing import MinMaxScaler\n",
    "from sklearn.model_selection import train_test_split\n",
    "from sklearn.linear_model import LinearRegression\n",
    "from sklearn.metrics import mean_squared_error, r2_score"
   ]
  },
  {
   "cell_type": "code",
   "execution_count": null,
   "metadata": {},
   "outputs": [],
   "source": [
    "\n",
    "\n",
    "companies = [\"NVDA\",\"MSFT\",\"TSLA\",\"AAPL\"]\n",
    "start_dates, end_dates = datetime(2014,1,1),datetime.now()\n",
    "# Get data\n",
    "\n",
    "def get_data(company_name:list,start_date:datetime,end_date:datetime):\n",
    "    stock = yf.download(company_name,start=start_date,end=end_date)\n",
    "    return stock\n",
    "\n",
    "nasdaq_5 = get_data(company_name=companies,start_date=start_dates,end_date=end_dates)\n",
    "nasdaq_5.columns = [\"Close\",\"High\",\"Low\",\"Open\",\"Volume\"]\n",
    "\n"
   ]
  },
  {
   "cell_type": "code",
   "execution_count": 2,
   "metadata": {},
   "outputs": [
    {
     "name": "stdout",
     "output_type": "stream",
     "text": [
      "YF.download() has changed argument auto_adjust default to True\n"
     ]
    },
    {
     "name": "stderr",
     "output_type": "stream",
     "text": [
      "[*********************100%***********************]  4 of 4 completed\n"
     ]
    }
   ],
   "source": [
    "import yfinance as yf\n",
    "import pandas as pd\n",
    "from datetime import datetime\n",
    "\n",
    "# 1. Funct to download data\n",
    "def get_data(company_name:list, start_date:datetime, end_date:datetime):\n",
    "    return yf.download(company_name, start=start_date, end=end_date)\n",
    "\n",
    "# 2. Funct to process data of each company\n",
    "def process_company(df_multi, ticker):\n",
    "    # Extract only data for each ticker\n",
    "    df_company = df_multi.xs(ticker, level=1, axis=1).copy()\n",
    "    \n",
    "    # Rename columns with of ticker\n",
    "    df_company.columns = [f\"{col}_{ticker}\" for col in df_company.columns]\n",
    "    \n",
    "    return df_company\n",
    "\n",
    "# 3.funct to process them all and gather.\n",
    "def process_all_companies(df_multi, tickers):\n",
    "    processed = []\n",
    "    \n",
    "    for ticker in tickers:\n",
    "        df = process_company(df_multi, ticker)\n",
    "        processed.append(df)\n",
    "        \n",
    "    # Concat all for index.\n",
    "    df_final = pd.concat(processed, axis=1)\n",
    "    return pd.DataFrame(df_final)\n",
    "# Exect all.\n",
    "companies = [\"NVDA\", \"MSFT\", \"TSLA\", \"AAPL\"]\n",
    "start_dates, end_dates = datetime(2014,1,1), datetime.now()\n",
    "\n",
    "nasdaq_5 = get_data(company_name=companies, start_date=start_dates, end_date=end_dates)\n",
    "nasdaq_processed = process_all_companies(nasdaq_5, companies)\n"
   ]
  },
  {
   "cell_type": "code",
   "execution_count": 3,
   "metadata": {},
   "outputs": [],
   "source": [
    "#Daily metrics\n",
    "#Selecting Close column price\n",
    "close_nasdaq_5 = nasdaq_processed[[\"Close_AAPL\",\"Close_MSFT\",\"Close_NVDA\",\"Close_TSLA\"]]\n",
    "#Retorno simples diarios\n",
    "daily_change = close_nasdaq_5.pct_change(fill_method=None)\n",
    "acumulate_dreturn = daily_change.mean()*100\n",
    "acumulate_drisk = daily_change.std()*100\n",
    "leader = (acumulate_dreturn / acumulate_drisk)*100\n",
    "data_frame = pd.DataFrame(data=[acumulate_dreturn,acumulate_drisk,leader])\n",
    "data_frame.columns = companies\n",
    "data_frame.index = [\"Return\",\"Risk\",\"Dominance\"]\n",
    "\n"
   ]
  },
  {
   "cell_type": "code",
   "execution_count": 9,
   "metadata": {},
   "outputs": [
    {
     "data": {
      "text/plain": [
       "True"
      ]
     },
     "execution_count": 9,
     "metadata": {},
     "output_type": "execute_result"
    }
   ],
   "source": [
    "import plotly.graph_objects as go\n",
    "import os\n",
    "import webbrowser\n",
    "# Crear figura vacía\n",
    "fig = go.Figure()\n",
    "\n",
    "# Agregar una línea por cada empresa\n",
    "for company in companies:\n",
    "    fig.add_trace(\n",
    "        go.Scatter(\n",
    "            x=close_nasdaq_5.index,\n",
    "            y=close_nasdaq_5[f\"Close_{company}\"],\n",
    "            mode='lines',\n",
    "            name=company\n",
    "        )\n",
    "    )\n",
    "\n",
    "# Personalización del gráfico\n",
    "fig.update_layout(\n",
    "    title=\"Historical Comparison Close price, created by Jose Potes\",\n",
    "    xaxis_title=\"Date\",\n",
    "    yaxis_title=\"Close (USD)\",\n",
    "    template=\"plotly_dark\",\n",
    "    hovermode=\"x unified\",\n",
    "    \n",
    ")\n",
    "fig.add_annotation(\n",
    "    text=(\n",
    "        \"Creado por Jose Potes | \"\n",
    "        \"🔗 LinkedIn: https://www.linkedin.com/in/jose-potes-99280330b/ | 🐦 Twitter: https://x.com/JosePotesFN | 📘 Facebook: https://acortar.link/CzmdlW\"\n",
    "    ),\n",
    "    xref=\"paper\", yref=\"paper\",\n",
    "    x=0, y=-0.2,\n",
    "    showarrow=False,\n",
    "    font=dict(size=12, color=\"lightgray\"),\n",
    "    align=\"center\"\n",
    ")\n",
    "\n",
    "\n",
    "# Guardar como HTML\n",
    "output_path = \"grafico_nasdaq.html\"\n",
    "fig.write_html(output_path)\n",
    "\n",
    "# Abrir en navegador automáticamente\n",
    "webbrowser.open('file://' + os.path.realpath(output_path))"
   ]
  }
 ],
 "metadata": {
  "kernelspec": {
   "display_name": "venv",
   "language": "python",
   "name": "python3"
  },
  "language_info": {
   "codemirror_mode": {
    "name": "ipython",
    "version": 3
   },
   "file_extension": ".py",
   "mimetype": "text/x-python",
   "name": "python",
   "nbconvert_exporter": "python",
   "pygments_lexer": "ipython3",
   "version": "3.13.1"
  }
 },
 "nbformat": 4,
 "nbformat_minor": 2
}
